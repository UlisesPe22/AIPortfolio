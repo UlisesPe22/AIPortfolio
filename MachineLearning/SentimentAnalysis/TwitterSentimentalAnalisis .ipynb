{
 "cells": [
  {
   "cell_type": "markdown",
   "id": "073cfc26",
   "metadata": {},
   "source": [
    "My primary objective of the project was to develop a deeper understanding of natural language processing techniques and machine learning algorithms. In the code below there is Twitter sentiment analysis model with python using a dataset (from kaggle) with tweets realted to the COVID19 pandemic and the Pfizer vaccines."
   ]
  },
  {
   "cell_type": "code",
   "execution_count": 196,
   "id": "eb60a3c7",
   "metadata": {},
   "outputs": [
    {
     "name": "stderr",
     "output_type": "stream",
     "text": [
      "[nltk_data] Downloading package stopwords to\n",
      "[nltk_data]     C:\\Users\\perez\\AppData\\Roaming\\nltk_data...\n",
      "[nltk_data]   Package stopwords is already up-to-date!\n",
      "[nltk_data] Downloading package punkt to\n",
      "[nltk_data]     C:\\Users\\perez\\AppData\\Roaming\\nltk_data...\n",
      "[nltk_data]   Package punkt is already up-to-date!\n"
     ]
    }
   ],
   "source": [
    "import pandas as pd \n",
    "import numpy as np\n",
    "import re \n",
    "import seaborn as sns \n",
    "import matplotlib.pyplot as plt\n",
    "from  matplotlib import style \n",
    "style.use('ggplot')\n",
    "import nltk\n",
    "nltk.download('stopwords')\n",
    "nltk.download('punkt')\n",
    "from textblob import TextBlob\n",
    "from nltk.tokenize import word_tokenize\n",
    "from nltk.stem import PorterStemmer\n",
    "from nltk.corpus import stopwords\n",
    "stop_words = set(stopwords.words('english'))\n",
    "from wordcloud import WordCloud\n",
    "from sklearn.feature_extraction.text import CountVectorizer\n",
    "from sklearn.model_selection import train_test_split\n",
    "from sklearn.linear_model import LogisticRegression\n",
    "from sklearn.metrics import accuracy_score, classification_report, confusion_matrix, ConfusionMatrixDisplay\n"
   ]
  },
  {
   "cell_type": "code",
   "execution_count": 197,
   "id": "431e7431",
   "metadata": {},
   "outputs": [
    {
     "data": {
      "text/html": [
       "<div>\n",
       "<style scoped>\n",
       "    .dataframe tbody tr th:only-of-type {\n",
       "        vertical-align: middle;\n",
       "    }\n",
       "\n",
       "    .dataframe tbody tr th {\n",
       "        vertical-align: top;\n",
       "    }\n",
       "\n",
       "    .dataframe thead th {\n",
       "        text-align: right;\n",
       "    }\n",
       "</style>\n",
       "<table border=\"1\" class=\"dataframe\">\n",
       "  <thead>\n",
       "    <tr style=\"text-align: right;\">\n",
       "      <th></th>\n",
       "      <th>id</th>\n",
       "      <th>user_name</th>\n",
       "      <th>user_location</th>\n",
       "      <th>user_description</th>\n",
       "      <th>user_created</th>\n",
       "      <th>user_followers</th>\n",
       "      <th>user_friends</th>\n",
       "      <th>user_favourites</th>\n",
       "      <th>user_verified</th>\n",
       "      <th>date</th>\n",
       "      <th>text</th>\n",
       "      <th>hashtags</th>\n",
       "      <th>source</th>\n",
       "      <th>retweets</th>\n",
       "      <th>favorites</th>\n",
       "      <th>is_retweet</th>\n",
       "    </tr>\n",
       "  </thead>\n",
       "  <tbody>\n",
       "    <tr>\n",
       "      <th>0</th>\n",
       "      <td>1340539111971516416</td>\n",
       "      <td>Rachel Roh</td>\n",
       "      <td>La Crescenta-Montrose, CA</td>\n",
       "      <td>Aggregator of Asian American news; scanning di...</td>\n",
       "      <td>2009-04-08 17:52:46</td>\n",
       "      <td>405</td>\n",
       "      <td>1692</td>\n",
       "      <td>3247</td>\n",
       "      <td>False</td>\n",
       "      <td>2020-12-20 06:06:44</td>\n",
       "      <td>Same folks said daikon paste could treat a cyt...</td>\n",
       "      <td>['PfizerBioNTech']</td>\n",
       "      <td>Twitter for Android</td>\n",
       "      <td>0</td>\n",
       "      <td>0</td>\n",
       "      <td>False</td>\n",
       "    </tr>\n",
       "    <tr>\n",
       "      <th>1</th>\n",
       "      <td>1338158543359250433</td>\n",
       "      <td>Albert Fong</td>\n",
       "      <td>San Francisco, CA</td>\n",
       "      <td>Marketing dude, tech geek, heavy metal &amp; '80s ...</td>\n",
       "      <td>2009-09-21 15:27:30</td>\n",
       "      <td>834</td>\n",
       "      <td>666</td>\n",
       "      <td>178</td>\n",
       "      <td>False</td>\n",
       "      <td>2020-12-13 16:27:13</td>\n",
       "      <td>While the world has been on the wrong side of ...</td>\n",
       "      <td>NaN</td>\n",
       "      <td>Twitter Web App</td>\n",
       "      <td>1</td>\n",
       "      <td>1</td>\n",
       "      <td>False</td>\n",
       "    </tr>\n",
       "    <tr>\n",
       "      <th>2</th>\n",
       "      <td>1337858199140118533</td>\n",
       "      <td>eli🇱🇹🇪🇺👌</td>\n",
       "      <td>Your Bed</td>\n",
       "      <td>heil, hydra 🖐☺</td>\n",
       "      <td>2020-06-25 23:30:28</td>\n",
       "      <td>10</td>\n",
       "      <td>88</td>\n",
       "      <td>155</td>\n",
       "      <td>False</td>\n",
       "      <td>2020-12-12 20:33:45</td>\n",
       "      <td>#coronavirus #SputnikV #AstraZeneca #PfizerBio...</td>\n",
       "      <td>['coronavirus', 'SputnikV', 'AstraZeneca', 'Pf...</td>\n",
       "      <td>Twitter for Android</td>\n",
       "      <td>0</td>\n",
       "      <td>0</td>\n",
       "      <td>False</td>\n",
       "    </tr>\n",
       "    <tr>\n",
       "      <th>3</th>\n",
       "      <td>1337855739918835717</td>\n",
       "      <td>Charles Adler</td>\n",
       "      <td>Vancouver, BC - Canada</td>\n",
       "      <td>Hosting \"CharlesAdlerTonight\" Global News Radi...</td>\n",
       "      <td>2008-09-10 11:28:53</td>\n",
       "      <td>49165</td>\n",
       "      <td>3933</td>\n",
       "      <td>21853</td>\n",
       "      <td>True</td>\n",
       "      <td>2020-12-12 20:23:59</td>\n",
       "      <td>Facts are immutable, Senator, even when you're...</td>\n",
       "      <td>NaN</td>\n",
       "      <td>Twitter Web App</td>\n",
       "      <td>446</td>\n",
       "      <td>2129</td>\n",
       "      <td>False</td>\n",
       "    </tr>\n",
       "    <tr>\n",
       "      <th>4</th>\n",
       "      <td>1337854064604966912</td>\n",
       "      <td>Citizen News Channel</td>\n",
       "      <td>NaN</td>\n",
       "      <td>Citizen News Channel bringing you an alternati...</td>\n",
       "      <td>2020-04-23 17:58:42</td>\n",
       "      <td>152</td>\n",
       "      <td>580</td>\n",
       "      <td>1473</td>\n",
       "      <td>False</td>\n",
       "      <td>2020-12-12 20:17:19</td>\n",
       "      <td>Explain to me again why we need a vaccine @Bor...</td>\n",
       "      <td>['whereareallthesickpeople', 'PfizerBioNTech']</td>\n",
       "      <td>Twitter for iPhone</td>\n",
       "      <td>0</td>\n",
       "      <td>0</td>\n",
       "      <td>False</td>\n",
       "    </tr>\n",
       "  </tbody>\n",
       "</table>\n",
       "</div>"
      ],
      "text/plain": [
       "                    id             user_name              user_location  \\\n",
       "0  1340539111971516416            Rachel Roh  La Crescenta-Montrose, CA   \n",
       "1  1338158543359250433           Albert Fong          San Francisco, CA   \n",
       "2  1337858199140118533              eli🇱🇹🇪🇺👌                   Your Bed   \n",
       "3  1337855739918835717         Charles Adler     Vancouver, BC - Canada   \n",
       "4  1337854064604966912  Citizen News Channel                        NaN   \n",
       "\n",
       "                                    user_description         user_created  \\\n",
       "0  Aggregator of Asian American news; scanning di...  2009-04-08 17:52:46   \n",
       "1  Marketing dude, tech geek, heavy metal & '80s ...  2009-09-21 15:27:30   \n",
       "2                                     heil, hydra 🖐☺  2020-06-25 23:30:28   \n",
       "3  Hosting \"CharlesAdlerTonight\" Global News Radi...  2008-09-10 11:28:53   \n",
       "4  Citizen News Channel bringing you an alternati...  2020-04-23 17:58:42   \n",
       "\n",
       "   user_followers  user_friends  user_favourites  user_verified  \\\n",
       "0             405          1692             3247          False   \n",
       "1             834           666              178          False   \n",
       "2              10            88              155          False   \n",
       "3           49165          3933            21853           True   \n",
       "4             152           580             1473          False   \n",
       "\n",
       "                  date                                               text  \\\n",
       "0  2020-12-20 06:06:44  Same folks said daikon paste could treat a cyt...   \n",
       "1  2020-12-13 16:27:13  While the world has been on the wrong side of ...   \n",
       "2  2020-12-12 20:33:45  #coronavirus #SputnikV #AstraZeneca #PfizerBio...   \n",
       "3  2020-12-12 20:23:59  Facts are immutable, Senator, even when you're...   \n",
       "4  2020-12-12 20:17:19  Explain to me again why we need a vaccine @Bor...   \n",
       "\n",
       "                                            hashtags               source  \\\n",
       "0                                 ['PfizerBioNTech']  Twitter for Android   \n",
       "1                                                NaN      Twitter Web App   \n",
       "2  ['coronavirus', 'SputnikV', 'AstraZeneca', 'Pf...  Twitter for Android   \n",
       "3                                                NaN      Twitter Web App   \n",
       "4     ['whereareallthesickpeople', 'PfizerBioNTech']   Twitter for iPhone   \n",
       "\n",
       "   retweets  favorites  is_retweet  \n",
       "0         0          0       False  \n",
       "1         1          1       False  \n",
       "2         0          0       False  \n",
       "3       446       2129       False  \n",
       "4         0          0       False  "
      ]
     },
     "execution_count": 197,
     "metadata": {},
     "output_type": "execute_result"
    }
   ],
   "source": [
    "df = pd.read_csv(r\"C:\\Users\\perez\\Documents\\MachineLearning\\sentimentalAnalisis\\vaccination_tweets.csv\")\n",
    "df.head()"
   ]
  },
  {
   "cell_type": "code",
   "execution_count": 198,
   "id": "5553abf5",
   "metadata": {},
   "outputs": [
    {
     "data": {
      "text/plain": [
       "id                     0\n",
       "user_name              0\n",
       "user_location       2270\n",
       "user_description     680\n",
       "user_created           0\n",
       "user_followers         0\n",
       "user_friends           0\n",
       "user_favourites        0\n",
       "user_verified          0\n",
       "date                   0\n",
       "text                   0\n",
       "hashtags            2582\n",
       "source                 1\n",
       "retweets               0\n",
       "favorites              0\n",
       "is_retweet             0\n",
       "dtype: int64"
      ]
     },
     "execution_count": 198,
     "metadata": {},
     "output_type": "execute_result"
    }
   ],
   "source": [
    "\n",
    "df.isnull().sum()\n"
   ]
  },
  {
   "cell_type": "code",
   "execution_count": 199,
   "id": "4f0fdedb",
   "metadata": {},
   "outputs": [
    {
     "data": {
      "text/plain": [
       "Index(['id', 'user_name', 'user_location', 'user_description', 'user_created',\n",
       "       'user_followers', 'user_friends', 'user_favourites', 'user_verified',\n",
       "       'date', 'text', 'hashtags', 'source', 'retweets', 'favorites',\n",
       "       'is_retweet'],\n",
       "      dtype='object')"
      ]
     },
     "execution_count": 199,
     "metadata": {},
     "output_type": "execute_result"
    }
   ],
   "source": [
    "df.columns"
   ]
  },
  {
   "cell_type": "code",
   "execution_count": 200,
   "id": "3aa88a80",
   "metadata": {},
   "outputs": [
    {
     "data": {
      "text/html": [
       "<div>\n",
       "<style scoped>\n",
       "    .dataframe tbody tr th:only-of-type {\n",
       "        vertical-align: middle;\n",
       "    }\n",
       "\n",
       "    .dataframe tbody tr th {\n",
       "        vertical-align: top;\n",
       "    }\n",
       "\n",
       "    .dataframe thead th {\n",
       "        text-align: right;\n",
       "    }\n",
       "</style>\n",
       "<table border=\"1\" class=\"dataframe\">\n",
       "  <thead>\n",
       "    <tr style=\"text-align: right;\">\n",
       "      <th></th>\n",
       "      <th>text</th>\n",
       "    </tr>\n",
       "  </thead>\n",
       "  <tbody>\n",
       "    <tr>\n",
       "      <th>0</th>\n",
       "      <td>Same folks said daikon paste could treat a cyt...</td>\n",
       "    </tr>\n",
       "    <tr>\n",
       "      <th>1</th>\n",
       "      <td>While the world has been on the wrong side of ...</td>\n",
       "    </tr>\n",
       "    <tr>\n",
       "      <th>2</th>\n",
       "      <td>#coronavirus #SputnikV #AstraZeneca #PfizerBio...</td>\n",
       "    </tr>\n",
       "    <tr>\n",
       "      <th>3</th>\n",
       "      <td>Facts are immutable, Senator, even when you're...</td>\n",
       "    </tr>\n",
       "    <tr>\n",
       "      <th>4</th>\n",
       "      <td>Explain to me again why we need a vaccine @Bor...</td>\n",
       "    </tr>\n",
       "  </tbody>\n",
       "</table>\n",
       "</div>"
      ],
      "text/plain": [
       "                                                text\n",
       "0  Same folks said daikon paste could treat a cyt...\n",
       "1  While the world has been on the wrong side of ...\n",
       "2  #coronavirus #SputnikV #AstraZeneca #PfizerBio...\n",
       "3  Facts are immutable, Senator, even when you're...\n",
       "4  Explain to me again why we need a vaccine @Bor..."
      ]
     },
     "execution_count": 200,
     "metadata": {},
     "output_type": "execute_result"
    }
   ],
   "source": [
    "# We will be removing all the other columns since we only want the text column\n",
    "text_df = df.drop(['id', 'user_name', 'user_location', 'user_description', 'user_created',\n",
    "       'user_followers', 'user_friends', 'user_favourites', 'user_verified',\n",
    "       'date', 'hashtags', 'source', 'retweets', 'favorites',\n",
    "       'is_retweet'], axis=1) \n",
    "text_df.head()"
   ]
  },
  {
   "cell_type": "code",
   "execution_count": 201,
   "id": "069372c8",
   "metadata": {},
   "outputs": [
    {
     "name": "stdout",
     "output_type": "stream",
     "text": [
      "<class 'pandas.core.frame.DataFrame'>\n",
      "RangeIndex: 11020 entries, 0 to 11019\n",
      "Data columns (total 1 columns):\n",
      " #   Column  Non-Null Count  Dtype \n",
      "---  ------  --------------  ----- \n",
      " 0   text    11020 non-null  object\n",
      "dtypes: object(1)\n",
      "memory usage: 86.2+ KB\n"
     ]
    }
   ],
   "source": [
    "text_df.info()"
   ]
  },
  {
   "cell_type": "code",
   "execution_count": 202,
   "id": "103d03bd",
   "metadata": {},
   "outputs": [],
   "source": [
    "# Data processing is meant to convert the data into a usable format. That is what we are doing in this function.\n",
    "def data_processing(text):\n",
    "    # Convert the text to lowercase to ensure consistent processing\n",
    "    text = text.lower()\n",
    "    # Remove hyperlinks (URLs) from the text using regular expressions\n",
    "    text = re.sub(r\"https\\S+|www\\S+https\\S+\", '', text, flags=re.MULTILINE)\n",
    "    # Remove mentions and hashtags from the text using regular expressions\n",
    "    text = re.sub(r'\\@\\w+|\\#', '', text)\n",
    "    # Remove all non-alphanumeric characters (punctuation, symbols, etc.) from the text\n",
    "    text = re.sub(r'[^\\w\\s]', '', text)\n",
    "    # Tokenize the text into individual words using NLTK's word_tokenize function\n",
    "    text_tokens = word_tokenize(text)\n",
    "    # Remove stopwords (common words that do not carry much meaning) from the text\n",
    "    filtered_text = [w for w in text_tokens if not w in stop_words]\n",
    "    # Join the filtered words back into a single string and return the preprocessed text\n",
    "    return \" \".join(filtered_text)\n"
   ]
  },
  {
   "cell_type": "code",
   "execution_count": 203,
   "id": "2d8b6335",
   "metadata": {},
   "outputs": [],
   "source": [
    "\n",
    "text_df.text = text_df['text'].apply(data_processing)\n",
    "text_df = text_df.drop_duplicates('text')\n"
   ]
  },
  {
   "cell_type": "code",
   "execution_count": 204,
   "id": "417213ff",
   "metadata": {},
   "outputs": [],
   "source": [
    "stemmer = PorterStemmer()\n",
    "def stemming(data):\n",
    "     # Apply stemming to each word in the input data list\n",
    "    # Stemming reduces words to their base or root form\n",
    "    # For example, 'running', 'runs', 'ran' all become 'run\n",
    "    text = [stemmer.stem(word) for word in data]\n",
    "    return data"
   ]
  },
  {
   "cell_type": "code",
   "execution_count": 205,
   "id": "5a50ee2b",
   "metadata": {},
   "outputs": [
    {
     "data": {
      "text/html": [
       "<div>\n",
       "<style scoped>\n",
       "    .dataframe tbody tr th:only-of-type {\n",
       "        vertical-align: middle;\n",
       "    }\n",
       "\n",
       "    .dataframe tbody tr th {\n",
       "        vertical-align: top;\n",
       "    }\n",
       "\n",
       "    .dataframe thead th {\n",
       "        text-align: right;\n",
       "    }\n",
       "</style>\n",
       "<table border=\"1\" class=\"dataframe\">\n",
       "  <thead>\n",
       "    <tr style=\"text-align: right;\">\n",
       "      <th></th>\n",
       "      <th>text</th>\n",
       "    </tr>\n",
       "  </thead>\n",
       "  <tbody>\n",
       "    <tr>\n",
       "      <th>0</th>\n",
       "      <td>folks said daikon paste could treat cytokine s...</td>\n",
       "    </tr>\n",
       "    <tr>\n",
       "      <th>1</th>\n",
       "      <td>world wrong side history year hopefully bigges...</td>\n",
       "    </tr>\n",
       "    <tr>\n",
       "      <th>2</th>\n",
       "      <td>coronavirus sputnikv astrazeneca pfizerbiontec...</td>\n",
       "    </tr>\n",
       "    <tr>\n",
       "      <th>3</th>\n",
       "      <td>facts immutable senator even youre ethically s...</td>\n",
       "    </tr>\n",
       "    <tr>\n",
       "      <th>4</th>\n",
       "      <td>explain need vaccine whereareallthesickpeople ...</td>\n",
       "    </tr>\n",
       "  </tbody>\n",
       "</table>\n",
       "</div>"
      ],
      "text/plain": [
       "                                                text\n",
       "0  folks said daikon paste could treat cytokine s...\n",
       "1  world wrong side history year hopefully bigges...\n",
       "2  coronavirus sputnikv astrazeneca pfizerbiontec...\n",
       "3  facts immutable senator even youre ethically s...\n",
       "4  explain need vaccine whereareallthesickpeople ..."
      ]
     },
     "execution_count": 205,
     "metadata": {},
     "output_type": "execute_result"
    }
   ],
   "source": [
    "text_df['text'] = text_df['text'].apply(lambda x: stemming(x))\n",
    "text_df.head()"
   ]
  },
  {
   "cell_type": "code",
   "execution_count": 177,
   "id": "0feefafb",
   "metadata": {},
   "outputs": [
    {
     "name": "stdout",
     "output_type": "stream",
     "text": [
      "<class 'pandas.core.frame.DataFrame'>\n",
      "Index: 10450 entries, 0 to 11019\n",
      "Data columns (total 3 columns):\n",
      " #   Column     Non-Null Count  Dtype  \n",
      "---  ------     --------------  -----  \n",
      " 0   text       10450 non-null  object \n",
      " 1   polarity   10450 non-null  float64\n",
      " 2   sentiment  10450 non-null  object \n",
      "dtypes: float64(1), object(2)\n",
      "memory usage: 326.6+ KB\n"
     ]
    }
   ],
   "source": [
    "text_df.info()\n"
   ]
  },
  {
   "cell_type": "code",
   "execution_count": 157,
   "id": "54063cd1",
   "metadata": {},
   "outputs": [
    {
     "data": {
      "text/html": [
       "<div>\n",
       "<style scoped>\n",
       "    .dataframe tbody tr th:only-of-type {\n",
       "        vertical-align: middle;\n",
       "    }\n",
       "\n",
       "    .dataframe tbody tr th {\n",
       "        vertical-align: top;\n",
       "    }\n",
       "\n",
       "    .dataframe thead th {\n",
       "        text-align: right;\n",
       "    }\n",
       "</style>\n",
       "<table border=\"1\" class=\"dataframe\">\n",
       "  <thead>\n",
       "    <tr style=\"text-align: right;\">\n",
       "      <th></th>\n",
       "      <th>text</th>\n",
       "      <th>polarity</th>\n",
       "    </tr>\n",
       "  </thead>\n",
       "  <tbody>\n",
       "    <tr>\n",
       "      <th>0</th>\n",
       "      <td>folks said daikon paste could treat cytokine s...</td>\n",
       "      <td>0.000</td>\n",
       "    </tr>\n",
       "    <tr>\n",
       "      <th>1</th>\n",
       "      <td>world wrong side history year hopefully bigges...</td>\n",
       "      <td>-0.500</td>\n",
       "    </tr>\n",
       "    <tr>\n",
       "      <th>2</th>\n",
       "      <td>coronavirus sputnikv astrazeneca pfizerbiontec...</td>\n",
       "      <td>0.000</td>\n",
       "    </tr>\n",
       "    <tr>\n",
       "      <th>3</th>\n",
       "      <td>facts immutable senator even youre ethically s...</td>\n",
       "      <td>0.100</td>\n",
       "    </tr>\n",
       "    <tr>\n",
       "      <th>4</th>\n",
       "      <td>explain need vaccine whereareallthesickpeople ...</td>\n",
       "      <td>0.000</td>\n",
       "    </tr>\n",
       "    <tr>\n",
       "      <th>5</th>\n",
       "      <td>anyone useful adviceguidance whether covid vac...</td>\n",
       "      <td>0.400</td>\n",
       "    </tr>\n",
       "    <tr>\n",
       "      <th>6</th>\n",
       "      <td>bit sad claim fame success vaccination patriot...</td>\n",
       "      <td>-0.100</td>\n",
       "    </tr>\n",
       "    <tr>\n",
       "      <th>7</th>\n",
       "      <td>many bright days 2020 best 1 bidenharris winni...</td>\n",
       "      <td>0.675</td>\n",
       "    </tr>\n",
       "    <tr>\n",
       "      <th>8</th>\n",
       "      <td>covid vaccine getting covidvaccine covid19 pfi...</td>\n",
       "      <td>0.000</td>\n",
       "    </tr>\n",
       "    <tr>\n",
       "      <th>9</th>\n",
       "      <td>covidvaccine states start getting covid19vacci...</td>\n",
       "      <td>0.000</td>\n",
       "    </tr>\n",
       "  </tbody>\n",
       "</table>\n",
       "</div>"
      ],
      "text/plain": [
       "                                                text  polarity\n",
       "0  folks said daikon paste could treat cytokine s...     0.000\n",
       "1  world wrong side history year hopefully bigges...    -0.500\n",
       "2  coronavirus sputnikv astrazeneca pfizerbiontec...     0.000\n",
       "3  facts immutable senator even youre ethically s...     0.100\n",
       "4  explain need vaccine whereareallthesickpeople ...     0.000\n",
       "5  anyone useful adviceguidance whether covid vac...     0.400\n",
       "6  bit sad claim fame success vaccination patriot...    -0.100\n",
       "7  many bright days 2020 best 1 bidenharris winni...     0.675\n",
       "8  covid vaccine getting covidvaccine covid19 pfi...     0.000\n",
       "9  covidvaccine states start getting covid19vacci...     0.000"
      ]
     },
     "execution_count": 157,
     "metadata": {},
     "output_type": "execute_result"
    }
   ],
   "source": [
    "# add a polarity column to the dataphrame \n",
    "def polarity(text):\n",
    "    # Use TextBlob to calculate the sentiment polarity of the input text\n",
    "    # Sentiment polarity ranges from -1 (most negative) to 1 (most positive)\n",
    "    # Values closer to 0 represent neutral sentiment\n",
    "    return TextBlob(text).sentiment.polarity\n",
    "# Apply the polarity function to the 'text' column of the DataFrame\n",
    "# and create a new column 'polarity' to store the polarity values\n",
    "text_df['polarity'] = text_df['text'].apply(polarity)\n",
    "text_df.head(10)"
   ]
  },
  {
   "cell_type": "code",
   "execution_count": 160,
   "id": "240848c6",
   "metadata": {},
   "outputs": [
    {
     "data": {
      "text/html": [
       "<div>\n",
       "<style scoped>\n",
       "    .dataframe tbody tr th:only-of-type {\n",
       "        vertical-align: middle;\n",
       "    }\n",
       "\n",
       "    .dataframe tbody tr th {\n",
       "        vertical-align: top;\n",
       "    }\n",
       "\n",
       "    .dataframe thead th {\n",
       "        text-align: right;\n",
       "    }\n",
       "</style>\n",
       "<table border=\"1\" class=\"dataframe\">\n",
       "  <thead>\n",
       "    <tr style=\"text-align: right;\">\n",
       "      <th></th>\n",
       "      <th>text</th>\n",
       "      <th>polarity</th>\n",
       "      <th>sentiment</th>\n",
       "    </tr>\n",
       "  </thead>\n",
       "  <tbody>\n",
       "    <tr>\n",
       "      <th>0</th>\n",
       "      <td>folks said daikon paste could treat cytokine s...</td>\n",
       "      <td>0.000</td>\n",
       "      <td>Neutral</td>\n",
       "    </tr>\n",
       "    <tr>\n",
       "      <th>1</th>\n",
       "      <td>world wrong side history year hopefully bigges...</td>\n",
       "      <td>-0.500</td>\n",
       "      <td>Negative</td>\n",
       "    </tr>\n",
       "    <tr>\n",
       "      <th>2</th>\n",
       "      <td>coronavirus sputnikv astrazeneca pfizerbiontec...</td>\n",
       "      <td>0.000</td>\n",
       "      <td>Neutral</td>\n",
       "    </tr>\n",
       "    <tr>\n",
       "      <th>3</th>\n",
       "      <td>facts immutable senator even youre ethically s...</td>\n",
       "      <td>0.100</td>\n",
       "      <td>Positive</td>\n",
       "    </tr>\n",
       "    <tr>\n",
       "      <th>4</th>\n",
       "      <td>explain need vaccine whereareallthesickpeople ...</td>\n",
       "      <td>0.000</td>\n",
       "      <td>Neutral</td>\n",
       "    </tr>\n",
       "    <tr>\n",
       "      <th>5</th>\n",
       "      <td>anyone useful adviceguidance whether covid vac...</td>\n",
       "      <td>0.400</td>\n",
       "      <td>Positive</td>\n",
       "    </tr>\n",
       "    <tr>\n",
       "      <th>6</th>\n",
       "      <td>bit sad claim fame success vaccination patriot...</td>\n",
       "      <td>-0.100</td>\n",
       "      <td>Negative</td>\n",
       "    </tr>\n",
       "    <tr>\n",
       "      <th>7</th>\n",
       "      <td>many bright days 2020 best 1 bidenharris winni...</td>\n",
       "      <td>0.675</td>\n",
       "      <td>Positive</td>\n",
       "    </tr>\n",
       "    <tr>\n",
       "      <th>8</th>\n",
       "      <td>covid vaccine getting covidvaccine covid19 pfi...</td>\n",
       "      <td>0.000</td>\n",
       "      <td>Neutral</td>\n",
       "    </tr>\n",
       "    <tr>\n",
       "      <th>9</th>\n",
       "      <td>covidvaccine states start getting covid19vacci...</td>\n",
       "      <td>0.000</td>\n",
       "      <td>Neutral</td>\n",
       "    </tr>\n",
       "  </tbody>\n",
       "</table>\n",
       "</div>"
      ],
      "text/plain": [
       "                                                text  polarity sentiment\n",
       "0  folks said daikon paste could treat cytokine s...     0.000   Neutral\n",
       "1  world wrong side history year hopefully bigges...    -0.500  Negative\n",
       "2  coronavirus sputnikv astrazeneca pfizerbiontec...     0.000   Neutral\n",
       "3  facts immutable senator even youre ethically s...     0.100  Positive\n",
       "4  explain need vaccine whereareallthesickpeople ...     0.000   Neutral\n",
       "5  anyone useful adviceguidance whether covid vac...     0.400  Positive\n",
       "6  bit sad claim fame success vaccination patriot...    -0.100  Negative\n",
       "7  many bright days 2020 best 1 bidenharris winni...     0.675  Positive\n",
       "8  covid vaccine getting covidvaccine covid19 pfi...     0.000   Neutral\n",
       "9  covidvaccine states start getting covid19vacci...     0.000   Neutral"
      ]
     },
     "execution_count": 160,
     "metadata": {},
     "output_type": "execute_result"
    }
   ],
   "source": [
    "# add a polarity column to the dataphrame \n",
    "def sentiment(label):\n",
    "    if label < 0:\n",
    "        return \"Negative\"\n",
    "    elif label == 0:\n",
    "        return \"Neutral\"\n",
    "    elif label > 0:\n",
    "        return \"Positive\"\n",
    "# Apply the sentiment function to the 'polarity' column of the DataFrame\n",
    "# and create a new column 'sentiment' to store the sentiment labels\n",
    "text_df['sentiment'] = text_df['polarity'].apply(sentiment)\n",
    "text_df.head(10)"
   ]
  },
  {
   "cell_type": "code",
   "execution_count": 161,
   "id": "2910dba5",
   "metadata": {},
   "outputs": [
    {
     "data": {
      "text/plain": [
       "<Axes: xlabel='sentiment', ylabel='count'>"
      ]
     },
     "execution_count": 161,
     "metadata": {},
     "output_type": "execute_result"
    },
    {
     "data": {
      "image/png": "[encoded data removed]",
      "text/plain": [
       "<Figure size 500x500 with 1 Axes>"
      ]
     },
     "metadata": {},
     "output_type": "display_data"
    }
   ],
   "source": [
    "fig = plt.figure(figsize=(5,5))\n",
    "sns.countplot(x='sentiment', data=text_df)"
   ]
  },
  {
   "cell_type": "code",
   "execution_count": 162,
   "id": "feec277d",
   "metadata": {},
   "outputs": [
    {
     "data": {
      "image/png": "[encoded data removed]",
      "text/plain": [
       "<Figure size 600x600 with 1 Axes>"
      ]
     },
     "metadata": {},
     "output_type": "display_data"
    }
   ],
   "source": [
    "# Creating a pie chart\n",
    "fig = plt.figure(figsize=(6, 6))\n",
    "colors = ('yellow', 'blue', 'gold')\n",
    "wp = {'linewidth': 2, 'edgecolor': 'black'}\n",
    "tags = text_df['sentiment'].value_counts()\n",
    "explode = (0.1, 0.1, 0.1)\n",
    "tags.plot(kind='pie', autopct='%1.1f%%', shadow=False, colors=colors,\n",
    "          startangle=90, wedgeprops=wp, explode=explode, label='')\n",
    "plt.title('Sentiment Distribution')\n",
    "\n",
    "plt.show()\n",
    "\n",
    "\n"
   ]
  },
  {
   "cell_type": "code",
   "execution_count": 163,
   "id": "6cd30175",
   "metadata": {},
   "outputs": [],
   "source": [
    "vect = CountVectorizer(ngram_range=(1,2)).fit(text_df['text'])\n"
   ]
  },
  {
   "cell_type": "code",
   "execution_count": 164,
   "id": "b8f93381",
   "metadata": {},
   "outputs": [
    {
     "name": "stdout",
     "output_type": "stream",
     "text": [
      "Number of features: 71637\n",
      "\n",
      "First 20 features: ['000' '000 doses' '000 initial' '000 people' '000 vaccines' '0000001'\n",
      " '0000001 covid19' '0011' '0011 abt' '004' '004 covid' '004 israelis' '01'\n",
      " '01 getting' '01 june' '01 november' '01aug2021' '01aug2021 doublevaxxed'\n",
      " '02' '02 175']\n",
      "\n"
     ]
    }
   ],
   "source": [
    "feature_names = vect.get_feature_names_out()\n",
    "print(\"Number of features: {}\\n\".format(len(feature_names)))\n",
    "print(\"First 20 features: {}\\n\".format(feature_names[:20]))\n"
   ]
  },
  {
   "cell_type": "code",
   "execution_count": 165,
   "id": "1c659d32",
   "metadata": {},
   "outputs": [],
   "source": [
    "#Build a model\n",
    "X = text_df['text']\n",
    "Y = text_df['sentiment']\n",
    "X = vect.transform(X)\n",
    "X_train, X_test, y_train, y_test = train_test_split(X, Y, test_size=0.2, random_state=42)\n"
   ]
  },
  {
   "cell_type": "code",
   "execution_count": 166,
   "id": "b96596b7",
   "metadata": {},
   "outputs": [
    {
     "name": "stdout",
     "output_type": "stream",
     "text": [
      "Test accuracy: 84.64%\n"
     ]
    }
   ],
   "source": [
    "logreg = LogisticRegression()\n",
    "logreg.fit(X_train,y_train)\n",
    "logreg_pred = logreg.predict(X_test)\n",
    "logreg_acc = accuracy_score(logreg_pred, y_test)\n",
    "print('Test accuracy: {:.2f}%'.format(logreg_acc*100))"
   ]
  },
  {
   "cell_type": "code",
   "execution_count": 167,
   "id": "c4cdc5f7",
   "metadata": {},
   "outputs": [
    {
     "name": "stdout",
     "output_type": "stream",
     "text": [
      "[[ 80 115  41]\n",
      " [  4 993  12]\n",
      " [ 15 134 696]]\n",
      "              precision    recall  f1-score   support\n",
      "\n",
      "    Negative       0.81      0.34      0.48       236\n",
      "     Neutral       0.80      0.98      0.88      1009\n",
      "    Positive       0.93      0.82      0.87       845\n",
      "\n",
      "    accuracy                           0.85      2090\n",
      "   macro avg       0.85      0.72      0.74      2090\n",
      "weighted avg       0.85      0.85      0.83      2090\n",
      "\n"
     ]
    }
   ],
   "source": [
    "print(confusion_matrix(y_test, logreg_pred))\n",
    "print(classification_report(y_test, logreg_pred))"
   ]
  },
  {
   "cell_type": "code",
   "execution_count": 168,
   "id": "8fc15726",
   "metadata": {},
   "outputs": [
    {
     "name": "stdout",
     "output_type": "stream",
     "text": [
      "Accuracy of K-NN classifier on training set: 0.58\n",
      "Accuracy of K-NN classifier on test set: 0.55\n"
     ]
    }
   ],
   "source": [
    "# Helps understand the model preformance.\n",
    "from sklearn.neighbors import KNeighborsClassifier\n",
    "# Create a KNeighborsClassifier instance\n",
    "knn = KNeighborsClassifier()\n",
    "# Train the K-NN classifier using the training dat a\n",
    "knn.fit(X_train, y_train)\n",
    "# Print the accuracy of the K-NN classifier on the training set\n",
    "print('Accuracy of K-NN classifier on training set: {:.2f}'.format(knn.score(X_train, y_train)))\n",
    "# Print the accuracy of the K-NN classifier on the test set\n",
    "print('Accuracy of K-NN classifier on test set: {:.2f}'.format(knn.score(X_test, y_test)))\n"
   ]
  },
  {
   "cell_type": "code",
   "execution_count": 169,
   "id": "61f94b1a",
   "metadata": {},
   "outputs": [
    {
     "name": "stdout",
     "output_type": "stream",
     "text": [
      "Accuracy of SVM classifier on training set: 0.98\n",
      "Accuracy of SVM classifier on test set: 0.77\n"
     ]
    }
   ],
   "source": [
    "from sklearn.svm import SVC\n",
    "# Create an SVC instance\n",
    "svm = SVC()\n",
    "# Train the SVM classifier using the training data\n",
    "svm.fit(X_train, y_train)\n",
    "# Print the accuracy of the SVM classifier on the training set\n",
    "print('Accuracy of SVM classifier on training set: {:.2f}'.format(svm.score(X_train, y_train)))\n",
    "# Print the accuracy of the SVM classifier on the test set\n",
    "print('Accuracy of SVM classifier on test set: {:.2f}'.format(svm.score(X_test, y_test)))"
   ]
  },
  {
   "cell_type": "code",
   "execution_count": null,
   "id": "9bcabd9c",
   "metadata": {},
   "outputs": [],
   "source": []
  }
 ],
 "metadata": {
  "kernelspec": {
   "display_name": "Python 3 (ipykernel)",
   "language": "python",
   "name": "python3"
  },
  "language_info": {
   "codemirror_mode": {
    "name": "ipython",
    "version": 3
   },
   "file_extension": ".py",
   "mimetype": "text/x-python",
   "name": "python",
   "nbconvert_exporter": "python",
   "pygments_lexer": "ipython3",
   "version": "3.11.4"
  }
 },
 "nbformat": 4,
 "nbformat_minor": 5
}
